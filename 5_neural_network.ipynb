{
 "cells": [
  {
   "cell_type": "code",
   "execution_count": 1,
   "metadata": {
    "collapsed": true
   },
   "outputs": [],
   "source": [
    "import numpy as np\n",
    "import tensorflow as tf"
   ]
  },
  {
   "cell_type": "code",
   "execution_count": 2,
   "metadata": {
    "collapsed": false
   },
   "outputs": [],
   "source": [
    "a = []\n",
    "b = []\n",
    "\n",
    "# odd, even number \n",
    "# for i in range(1,100):\n",
    "#     count = i % 2\n",
    "#     div = i % 10\n",
    "#     moc = i // 10\n",
    "#     a.append([div / 10])\n",
    "#     b.append([count])\n",
    "\n",
    "for i in range(1, 100):\n",
    "    div = i % 10\n",
    "    if i % 3 == 0 and i % 15 != 0:\n",
    "        a.append([div / 10])\n",
    "        b.append([0])\n",
    "    elif i % 5 == 0 and i % 15 != 0:\n",
    "        a.append([div / 10])\n",
    "        b.append([1])"
   ]
  },
  {
   "cell_type": "code",
   "execution_count": 3,
   "metadata": {
    "collapsed": false
   },
   "outputs": [
    {
     "data": {
      "text/plain": [
       "([[0.3],\n",
       "  [0.5],\n",
       "  [0.6],\n",
       "  [0.9],\n",
       "  [0.0],\n",
       "  [0.2],\n",
       "  [0.8],\n",
       "  [0.0],\n",
       "  [0.1],\n",
       "  [0.4],\n",
       "  [0.5],\n",
       "  [0.7],\n",
       "  [0.3],\n",
       "  [0.5],\n",
       "  [0.6],\n",
       "  [0.9],\n",
       "  [0.0],\n",
       "  [0.2],\n",
       "  [0.8],\n",
       "  [0.0],\n",
       "  [0.1],\n",
       "  [0.4],\n",
       "  [0.5],\n",
       "  [0.7],\n",
       "  [0.3],\n",
       "  [0.5],\n",
       "  [0.6],\n",
       "  [0.9],\n",
       "  [0.0],\n",
       "  [0.2],\n",
       "  [0.8],\n",
       "  [0.0],\n",
       "  [0.1],\n",
       "  [0.4],\n",
       "  [0.5],\n",
       "  [0.7],\n",
       "  [0.3],\n",
       "  [0.5],\n",
       "  [0.6],\n",
       "  [0.9]],\n",
       " [[0],\n",
       "  [1],\n",
       "  [0],\n",
       "  [0],\n",
       "  [1],\n",
       "  [0],\n",
       "  [0],\n",
       "  [1],\n",
       "  [0],\n",
       "  [0],\n",
       "  [1],\n",
       "  [0],\n",
       "  [0],\n",
       "  [1],\n",
       "  [0],\n",
       "  [0],\n",
       "  [1],\n",
       "  [0],\n",
       "  [0],\n",
       "  [1],\n",
       "  [0],\n",
       "  [0],\n",
       "  [1],\n",
       "  [0],\n",
       "  [0],\n",
       "  [1],\n",
       "  [0],\n",
       "  [0],\n",
       "  [1],\n",
       "  [0],\n",
       "  [0],\n",
       "  [1],\n",
       "  [0],\n",
       "  [0],\n",
       "  [1],\n",
       "  [0],\n",
       "  [0],\n",
       "  [1],\n",
       "  [0],\n",
       "  [0]])"
      ]
     },
     "execution_count": 3,
     "metadata": {},
     "output_type": "execute_result"
    }
   ],
   "source": [
    "(a,b)"
   ]
  },
  {
   "cell_type": "code",
   "execution_count": null,
   "metadata": {
    "collapsed": false
   },
   "outputs": [],
   "source": [
    "x_data = np.array(a, dtype=np.float32)\n",
    "y_data = np.array(b, dtype=np.float32)\n",
    "X = tf.placeholder(tf.float32)\n",
    "Y = tf.placeholder(tf.float32)\n",
    "\n",
    "W1 = tf.Variable(tf.random_normal([1, 100]), name='weight1')\n",
    "b1 = tf.Variable(tf.random_normal([100]), name='bias1')\n",
    "layer1 = tf.sigmoid(tf.matmul(X, W1) + b1)\n",
    "\n",
    "W2 = tf.Variable(tf.random_normal([100, 100]), name='weight2')\n",
    "b2 = tf.Variable(tf.random_normal([100]), name='bias2')\n",
    "layer2 = tf.sigmoid(tf.matmul(X, W2) + b2)\n",
    "\n",
    "W3 = tf.Variable(tf.random_normal([100, 100]), name='weight3')\n",
    "b3 = tf.Variable(tf.random_normal([100]), name='bias3')\n",
    "layer3 = tf.sigmoid(tf.matmul(X, W3) + b3)\n",
    "\n",
    "W4 = tf.Variable(tf.random_normal([100, 1]), name='weight4')\n",
    "b4 = tf.Variable(tf.random_normal([1]), name='bias4')\n",
    "hypothesis = tf.sigmoid(tf.matmul(layer1, W4) + b4)\n",
    "\n",
    "cost = -tf.reduce_mean(Y * tf.log(hypothesis) + (1 - Y) * tf.log(1 - hypothesis))\n",
    "train = tf.train.AdamOptimizer(learning_rate=0.0025).minimize(cost)\n",
    "\n",
    "sess = tf.Session()\n",
    "sess.run(tf.global_variables_initializer())"
   ]
  },
  {
   "cell_type": "code",
   "execution_count": null,
   "metadata": {
    "collapsed": false
   },
   "outputs": [
    {
     "name": "stdout",
     "output_type": "stream",
     "text": [
      "0 0.7104469\n",
      "1000 0.5444776\n",
      "2000 0.39029273\n",
      "3000 0.18441816\n",
      "4000 0.08442271\n",
      "5000 0.033571012\n",
      "6000 0.013620017\n",
      "7000 0.0059598894\n",
      "8000 0.0027640944\n",
      "9000 0.0013316376\n",
      "10000 0.0006592589\n",
      "11000 0.00033364724\n",
      "12000 0.00017222164\n",
      "13000 9.0556816e-05\n",
      "14000 4.8442053e-05\n",
      "15000 2.6319274e-05\n",
      "16000 1.4476735e-05\n",
      "17000 8.070549e-06\n",
      "18000 4.54637e-06\n",
      "19000 2.5868499e-06\n"
     ]
    }
   ],
   "source": [
    "for step in range(20001):\n",
    "    sess.run(train, feed_dict={X: x_data, \n",
    "                               Y: y_data})\n",
    "    if step % 1000 ==0:\n",
    "        print(step, sess.run(cost, feed_dict={X: x_data,\n",
    "                                              Y: y_data}))\n",
    "h = sess.run(hypothesis, feed_dict={X: x_data,\n",
    "                                    Y: y_data})"
   ]
  },
  {
   "cell_type": "code",
   "execution_count": null,
   "metadata": {
    "collapsed": false
   },
   "outputs": [],
   "source": [
    "print(h)"
   ]
  },
  {
   "cell_type": "code",
   "execution_count": null,
   "metadata": {
    "collapsed": true
   },
   "outputs": [],
   "source": []
  }
 ],
 "metadata": {
  "anaconda-cloud": {},
  "kernelspec": {
   "display_name": "Python [Root]",
   "language": "python",
   "name": "Python [Root]"
  },
  "language_info": {
   "codemirror_mode": {
    "name": "ipython",
    "version": 3
   },
   "file_extension": ".py",
   "mimetype": "text/x-python",
   "name": "python",
   "nbconvert_exporter": "python",
   "pygments_lexer": "ipython3",
   "version": "3.5.4"
  }
 },
 "nbformat": 4,
 "nbformat_minor": 2
}
