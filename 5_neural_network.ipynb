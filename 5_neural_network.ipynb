{
 "cells": [
  {
   "cell_type": "code",
   "execution_count": 1,
   "metadata": {},
   "outputs": [],
   "source": [
    "import numpy as np\n",
    "import tensorflow as tf"
   ]
  },
  {
   "cell_type": "code",
   "execution_count": 2,
   "metadata": {},
   "outputs": [],
   "source": [
    "a = []\n",
    "b = []\n",
    "\n",
    "# odd, even number \n",
    "for i in range(1,10):\n",
    "    count = i % 2\n",
    "    a.append([i / 10])\n",
    "    b.append([count])\n",
    "\n",
    "# for i in range(1, 100):\n",
    "#     div = i % 10\n",
    "#     if i % 3 == 0 and i % 15 != 0:\n",
    "#         a.append([div / 10])\n",
    "#         b.append([0])\n",
    "#     elif i % 5 == 0 and i % 15 != 0:\n",
    "#         a.append([div / 10])\n",
    "#         b.append([1])"
   ]
  },
  {
   "cell_type": "code",
   "execution_count": 3,
   "metadata": {},
   "outputs": [],
   "source": [
    "x_data = np.array(a, dtype=np.float32)\n",
    "y_data = np.array(b, dtype=np.float32)\n",
    "X = tf.placeholder(tf.float32)\n",
    "Y = tf.placeholder(tf.float32)\n",
    "\n",
    "W1 = tf.Variable(tf.random_normal([1, 10]), name='weight1')\n",
    "b1 = tf.Variable(tf.random_normal([10]), name='bias1')\n",
    "layer1 = tf.sigmoid(tf.matmul(X, W1) + b1)\n",
    "\n",
    "W2 = tf.Variable(tf.random_normal([10, 10]), name='weight2')\n",
    "b2 = tf.Variable(tf.random_normal([10]), name='bias2')\n",
    "layer2 = tf.sigmoid(tf.matmul(layer1, W2) + b2)\n",
    "\n",
    "W3 = tf.Variable(tf.random_normal([10, 10]), name='weight3')\n",
    "b3 = tf.Variable(tf.random_normal([10]), name='bias3')\n",
    "layer3 = tf.sigmoid(tf.matmul(layer2, W3) + b3)\n",
    "\n",
    "W4 = tf.Variable(tf.random_normal([10, 1]), name='weight4')\n",
    "b4 = tf.Variable(tf.random_normal([1]), name='bias4')\n",
    "hypothesis = tf.sigmoid(tf.matmul(layer3, W4) + b4)\n",
    "\n",
    "cost = -tf.reduce_mean(Y * tf.log(hypothesis) + (1 - Y) * tf.log(1 - hypothesis))\n",
    "train = tf.train.AdamOptimizer(learning_rate=0.0025).minimize(cost)\n",
    "\n",
    "sess = tf.Session()\n",
    "sess.run(tf.global_variables_initializer())"
   ]
  },
  {
   "cell_type": "code",
   "execution_count": 4,
   "metadata": {},
   "outputs": [
    {
     "name": "stdout",
     "output_type": "stream",
     "text": [
      "0 2.28997\n",
      "1000 0.687128\n",
      "2000 0.687024\n",
      "3000 0.686929\n",
      "4000 0.621099\n",
      "5000 0.475767\n",
      "6000 0.223204\n",
      "7000 0.00908617\n",
      "8000 0.00285424\n",
      "9000 0.00136299\n",
      "10000 0.000743199\n"
     ]
    }
   ],
   "source": [
    "for step in range(10001):\n",
    "    sess.run(train, feed_dict={X: x_data, \n",
    "                               Y: y_data})\n",
    "    if step % 1000 ==0:\n",
    "        print(step, sess.run(cost, feed_dict={X: x_data,\n",
    "                                              Y: y_data}))\n",
    "h = sess.run(hypothesis, feed_dict={X: x_data,\n",
    "                                    Y: y_data})"
   ]
  },
  {
   "cell_type": "code",
   "execution_count": 5,
   "metadata": {},
   "outputs": [
    {
     "name": "stdout",
     "output_type": "stream",
     "text": [
      "[[  9.99531746e-01]\n",
      " [  9.18703794e-04]\n",
      " [  9.99287665e-01]\n",
      " [  2.31546830e-04]\n",
      " [  9.99252737e-01]\n",
      " [  5.86997834e-04]\n",
      " [  9.99046266e-01]\n",
      " [  1.33439770e-03]\n",
      " [  9.99267280e-01]]\n"
     ]
    }
   ],
   "source": [
    "print(h)"
   ]
  },
  {
   "cell_type": "code",
   "execution_count": null,
   "metadata": {},
   "outputs": [],
   "source": []
  },
  {
   "cell_type": "code",
   "execution_count": null,
   "metadata": {},
   "outputs": [],
   "source": []
  },
  {
   "cell_type": "code",
   "execution_count": null,
   "metadata": {},
   "outputs": [],
   "source": []
  },
  {
   "cell_type": "code",
   "execution_count": null,
   "metadata": {},
   "outputs": [],
   "source": []
  },
  {
   "cell_type": "code",
   "execution_count": null,
   "metadata": {},
   "outputs": [],
   "source": []
  },
  {
   "cell_type": "code",
   "execution_count": null,
   "metadata": {},
   "outputs": [],
   "source": []
  },
  {
   "cell_type": "code",
   "execution_count": null,
   "metadata": {},
   "outputs": [],
   "source": []
  }
 ],
 "metadata": {
  "anaconda-cloud": {},
  "kernelspec": {
   "display_name": "Python 3",
   "language": "python",
   "name": "python3"
  },
  "language_info": {
   "codemirror_mode": {
    "name": "ipython",
    "version": 3
   },
   "file_extension": ".py",
   "mimetype": "text/x-python",
   "name": "python",
   "nbconvert_exporter": "python",
   "pygments_lexer": "ipython3",
   "version": "3.6.5"
  }
 },
 "nbformat": 4,
 "nbformat_minor": 2
}
