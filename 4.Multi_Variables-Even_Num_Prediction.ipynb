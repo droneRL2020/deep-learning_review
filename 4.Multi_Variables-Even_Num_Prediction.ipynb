{
 "cells": [
  {
   "cell_type": "code",
   "execution_count": 1,
   "metadata": {},
   "outputs": [],
   "source": [
    "import tensorflow as tf"
   ]
  },
  {
   "cell_type": "code",
   "execution_count": 2,
   "metadata": {},
   "outputs": [],
   "source": [
    "x1_data = [2,10,6,14,20] \n",
    "x2_data = [4,12,8,16,22]\n",
    "x3_data = [6,14,10,18,24] \n",
    "y_data = [8,16,12,20,26]\n",
    "\n",
    "X_1 = tf.placeholder(tf.float32)\n",
    "X_2 = tf.placeholder(tf.float32)\n",
    "X_3 = tf.placeholder(tf.float32)\n",
    "\n",
    "Y = tf.placeholder(tf.float32)\n",
    "\n",
    "w_1 = tf.Variable(tf.random_normal([1]),name='Weight1')\n",
    "w_2 = tf.Variable(tf.random_normal([1]),name='Weight2')\n",
    "w_3 = tf.Variable(tf.random_normal([1]),name='Weight3')\n",
    "b = tf.Variable(tf.random_normal([1]), name='bias')\n",
    "\n",
    "hypothesis = X_1*w_1 + X_2*w_2 + X_3*w_3 + b\n",
    "cost = tf.reduce_mean(tf.square(hypothesis - Y))\n",
    "train = tf.train.AdamOptimizer().minimize(cost)"
   ]
  },
  {
   "cell_type": "code",
   "execution_count": 3,
   "metadata": {},
   "outputs": [
    {
     "name": "stdout",
     "output_type": "stream",
     "text": [
      "loss: 62.64035 prediction: [10.99568  23.050575 17.023129 29.07802  38.11919 ]\n",
      "loss: 34.41385 prediction: [10.369027 21.267153 15.81809  26.716215 34.88981 ]\n",
      "loss: 16.995783 prediction: [ 9.83464  19.746925 14.790782 24.703068 32.137283]\n",
      "loss: 7.526254 prediction: [ 9.410329 18.54089  13.975608 23.106169 29.954088]\n",
      "loss: 2.9848168 prediction: [ 9.094845 17.645693 13.370269 21.92112  28.334257]\n",
      "loss: 1.0890186 prediction: [ 8.87684  17.029144 12.952992 21.105295 27.219522]\n",
      "loss: 0.4055365 prediction: [ 8.737271 16.636997 12.687134 20.58686  26.511654]\n",
      "loss: 0.19298483 prediction: [ 8.654279 16.406902 12.530589 20.28321  26.097677]\n",
      "loss: 0.13544044 prediction: [ 8.607987 16.282127 12.445056 20.119198 25.874802]\n",
      "loss: 0.1212332 prediction: [ 8.583232 16.219368 12.4013   20.037437 25.764542]\n",
      "loss: 0.11731311 prediction: [ 8.569941 16.189861 12.3799   19.99982  25.71476 ]\n",
      "loss: 0.11543496 prediction: [ 8.562187 16.176657 12.369423 19.983892 25.694746]\n",
      "loss: 0.11385671 prediction: [ 8.556824 16.170763 12.363794 19.977734 25.688185]\n",
      "loss: 0.112268016 prediction: [ 8.552347  16.167864  12.3601055 19.975622  25.687263 ]\n",
      "loss: 0.110626385 prediction: [ 8.548098 16.16607  12.357084 19.975056 25.688536]\n",
      "loss: 0.10892651 prediction: [ 8.543807 16.164606 12.354207 19.975006 25.690607]\n",
      "loss: 0.107172824 prediction: [ 8.539397 16.163235 12.351315 19.975151 25.693031]\n",
      "loss: 0.105368756 prediction: [ 8.534833 16.16184  12.348338 19.975346 25.695602]\n",
      "loss: 0.10351652 prediction: [ 8.530109 16.160408 12.345259 19.975555 25.69828 ]\n",
      "loss: 0.10161959 prediction: [ 8.525229 16.158932 12.342081 19.97578  25.701057]\n",
      "loss: 0.099680424 prediction: [ 8.520196 16.157412 12.338804 19.976017 25.703932]\n",
      "loss: 0.09770284 prediction: [ 8.515011 16.155844 12.335427 19.97626  25.706886]\n",
      "loss: 0.0956892 prediction: [ 8.509676 16.15423  12.331951 19.976505 25.70992 ]\n",
      "loss: 0.09364271 prediction: [ 8.504198 16.152573 12.328384 19.97676  25.713045]\n",
      "loss: 0.09156744 prediction: [ 8.498577 16.15087  12.324725 19.977018 25.716236]\n",
      "loss: 0.08946453 prediction: [ 8.492818 16.149126 12.320972 19.97728  25.71951 ]\n",
      "loss: 0.08733777 prediction: [ 8.486928 16.147348 12.317137 19.977556 25.722874]\n",
      "loss: 0.08519041 prediction: [ 8.4809065 16.145529  12.313216  19.977839  25.726309 ]\n",
      "loss: 0.08302548 prediction: [ 8.474756 16.143667 12.309212 19.978127 25.729809]\n",
      "loss: 0.08084552 prediction: [ 8.468482 16.141773 12.305126 19.978413 25.733383]\n",
      "loss: 0.07865379 prediction: [ 8.462086 16.139832 12.300961 19.978706 25.737013]\n",
      "loss: 0.076452844 prediction: [ 8.455576 16.137867 12.296722 19.979012 25.740726]\n",
      "loss: 0.07424596 prediction: [ 8.448955 16.135866 12.292412 19.979322 25.744505]\n",
      "loss: 0.07203607 prediction: [ 8.44222  16.133821 12.288022 19.979624 25.748322]\n",
      "loss: 0.06982557 prediction: [ 8.435385 16.131758 12.283571 19.979944 25.752224]\n",
      "loss: 0.06761768 prediction: [ 8.428446 16.129658 12.279052 19.980263 25.756172]\n",
      "loss: 0.06541572 prediction: [ 8.421413 16.127531 12.274471 19.980589 25.76018 ]\n",
      "loss: 0.06322217 prediction: [ 8.414288 16.125378 12.269833 19.980923 25.764238]\n",
      "loss: 0.061040174 prediction: [ 8.407075 16.123192 12.265135 19.981253 25.76834 ]\n",
      "loss: 0.058871675 prediction: [ 8.399782 16.12099  12.260386 19.981598 25.772505]\n",
      "loss: 0.056720205 prediction: [ 8.392407 16.118755 12.255584 19.98193  25.776695]\n"
     ]
    }
   ],
   "source": [
    "sess = tf.InteractiveSession()\n",
    "sess.run(tf.global_variables_initializer())\n",
    "\n",
    "for step in range(2001):\n",
    "    prediction, loss, _ = sess.run([hypothesis, cost, train], feed_dict={X_1:x1_data,\n",
    "                                                                        X_2: x2_data,\n",
    "                                                                        X_3: x3_data,\n",
    "                                                                        Y: y_data})\n",
    "    if step % 50 == 0:\n",
    "        print('loss:', loss, 'prediction:', prediction)"
   ]
  },
  {
   "cell_type": "markdown",
   "metadata": {},
   "source": [
    "## Convert Multi-Variables into Matrix form"
   ]
  },
  {
   "cell_type": "code",
   "execution_count": 4,
   "metadata": {},
   "outputs": [],
   "source": [
    "x_data = [[2.,4.,6.],\n",
    "          [10.,12.,14.],\n",
    "          [6.,8.,10.],\n",
    "          [14.,16.,18.],\n",
    "          [20.,22.,24.]]\n",
    "y_data = [[8.],[16.],[12.],[20.],[26.]]\n",
    "\n",
    "X = tf.placeholder(tf.float32,shape=[None,3])\n",
    "Y = tf.placeholder(tf.float32,shape=[None,1])\n",
    "\n",
    "W = tf.Variable(tf.random_normal([3,1]),name='Weight')\n",
    "b = tf.Variable(tf.random_normal([1]), name='bias')\n",
    "\n",
    "hypothesis = tf.matmul(X,W)\n",
    "cost = tf.reduce_mean(tf.square(hypothesis - Y))\n",
    "train = tf.train.AdamOptimizer().minimize(cost)"
   ]
  },
  {
   "cell_type": "code",
   "execution_count": 5,
   "metadata": {},
   "outputs": [
    {
     "name": "stdout",
     "output_type": "stream",
     "text": [
      "loss: 3116.5708 prediction: [[-11.720347]\n",
      " [-33.330414]\n",
      " [-22.525383]\n",
      " [-44.13545 ]\n",
      " [-60.343002]]\n"
     ]
    },
    {
     "name": "stderr",
     "output_type": "stream",
     "text": [
      "/usr/local/lib/python3.5/dist-packages/tensorflow/python/client/session.py:1702: UserWarning: An interactive session is already active. This can cause out-of-memory errors in some cases. You must explicitly call `InteractiveSession.close()` to release resources held by the other session(s).\n",
      "  warnings.warn('An interactive session is already active. This can '\n"
     ]
    },
    {
     "name": "stdout",
     "output_type": "stream",
     "text": [
      "loss: 1626.6654 prediction: [[ -7.251715]\n",
      " [-19.925175]\n",
      " [-13.588446]\n",
      " [-26.261904]\n",
      " [-35.767   ]]\n",
      "loss: 752.4024 prediction: [[ -3.5257976]\n",
      " [ -8.749948 ]\n",
      " [ -6.1378717]\n",
      " [-11.3620205]\n",
      " [-15.280133 ]]\n",
      "loss: 297.18707 prediction: [[-0.57282805]\n",
      " [ 0.10363579]\n",
      " [-0.2345953 ]\n",
      " [ 0.44186878]\n",
      " [ 0.9492178 ]]\n",
      "loss: 96.72898 prediction: [[ 1.594913]\n",
      " [ 6.597472]\n",
      " [ 4.096193]\n",
      " [ 9.098753]\n",
      " [12.850672]]\n",
      "loss: 26.564655 prediction: [[ 3.0192697]\n",
      " [10.855672 ]\n",
      " [ 6.9374714]\n",
      " [14.773874 ]\n",
      " [20.651176 ]]\n",
      "loss: 8.409624 prediction: [[ 3.8249784]\n",
      " [13.251233 ]\n",
      " [ 8.538106 ]\n",
      " [17.964361 ]\n",
      " [25.034052 ]]\n",
      "loss: 5.1847024 prediction: [[ 4.2037296]\n",
      " [14.358455 ]\n",
      " [ 9.281093 ]\n",
      " [19.435818 ]\n",
      " [27.05186  ]]\n",
      "loss: 4.7958302 prediction: [[ 4.3504677]\n",
      " [14.761575 ]\n",
      " [ 9.556022 ]\n",
      " [19.967129 ]\n",
      " [27.77546  ]]\n",
      "loss: 4.7286177 prediction: [[ 4.403297]\n",
      " [14.874015]\n",
      " [ 9.638657]\n",
      " [20.109375]\n",
      " [27.962414]]\n",
      "loss: 4.672853 prediction: [[ 4.430957]\n",
      " [14.900561]\n",
      " [ 9.665759]\n",
      " [20.135365]\n",
      " [27.987568]]\n"
     ]
    }
   ],
   "source": [
    "sess = tf.InteractiveSession()\n",
    "sess.run(tf.global_variables_initializer())\n",
    "\n",
    "for step in range(4001):\n",
    "    prediction, loss, _ = sess.run([hypothesis, cost, train], feed_dict={X:x_data,\n",
    "                                                                        Y: y_data})\n",
    "    if step % 400 == 0:\n",
    "        print('loss:', loss, 'prediction:', prediction)"
   ]
  },
  {
   "cell_type": "code",
   "execution_count": null,
   "metadata": {},
   "outputs": [],
   "source": []
  }
 ],
 "metadata": {
  "kernelspec": {
   "display_name": "Python 3",
   "language": "python",
   "name": "python3"
  },
  "language_info": {
   "codemirror_mode": {
    "name": "ipython",
    "version": 3
   },
   "file_extension": ".py",
   "mimetype": "text/x-python",
   "name": "python",
   "nbconvert_exporter": "python",
   "pygments_lexer": "ipython3",
   "version": "3.5.2"
  }
 },
 "nbformat": 4,
 "nbformat_minor": 2
}
